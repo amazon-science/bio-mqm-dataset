{
 "cells": [
  {
   "cell_type": "code",
   "execution_count": null,
   "metadata": {},
   "outputs": [],
   "source": [
    "# Small notebook to examine the token-level probabilities\n",
    "\n",
    "SENT_SRC = \"I like to eat pizza.\"\n",
    "SENT_TGT_BAD = \"Ich mag essen Pizza.\"\n",
    "SENT_TGT_GOOD = \"Ich esse gerne Pizza.\"\n",
    "\n",
    "from functools import partial"
   ]
  },
  {
   "cell_type": "code",
   "execution_count": null,
   "metadata": {},
   "outputs": [],
   "source": [
    "import torch\n",
    "DEVICE = torch.device('cpu')\n",
    "from metrics_domain_adaptation import utils\n",
    "from metrics_domain_adaptation.metrics.prism2 import PRISMModel\n",
    "\n",
    "model_1 = PRISMModel(\n",
    "    lang1=\"en\", lang2=\"de\", \n",
    "    device=DEVICE, model_type=\"nllb\", \n",
    "    model_name=\"facebook/nllb-200-distilled-600M\"\n",
    ")\n",
    "model_1.nllb_finetuned = False\n",
    "model_2 = PRISMModel(\n",
    "    lang1=\"en\", lang2=\"de\", \n",
    "    device=DEVICE, model_type=\"nllb\", \n",
    "    model_name=f\"{utils.ROOT}/models/trained/nllb/ende/600M_bio_lr1e-6_bs4/checkpoint-75000/\"\n",
    ")\n",
    "model_2.nllb_finetuned = True"
   ]
  },
  {
   "cell_type": "code",
   "execution_count": null,
   "metadata": {},
   "outputs": [],
   "source": [
    "# overwrite implementation for fast loop\n",
    "\n",
    "def _score_1way_nllb(self, input_text, output_text, input_lang_id, input_lang):\n",
    "    # need to import locally\n",
    "    import torch\n",
    "    # this shouldn't have an effect because we are not using tokenizer's special tokens but just for consistency\n",
    "    self.tokenizer.src_lang = utils.LANG_TO_NLLB[input_lang]\n",
    "\n",
    "    src_ids_list = [\n",
    "        [input_lang_id, ] +\n",
    "        self.tokenizer.encode(input_text, add_special_tokens=False)[:self.max_src_len_tokens] +\n",
    "        [self.bos_id, ]\n",
    "    ]\n",
    "    src_ids = torch.tensor(src_ids_list, dtype=torch.int64)\n",
    "    tgt_ids_list = [\n",
    "        [self.bos_id, self.lang2nllb_id] +\n",
    "        self.tokenizer.encode(output_text, add_special_tokens=False)[:self.max_tgt_len_tokens] +\n",
    "        [self.bos_id, ]\n",
    "    ]\n",
    "    tgt_ids = torch.tensor(tgt_ids_list, dtype=torch.int64)\n",
    "    logits = self.model.forward(\n",
    "        input_ids=src_ids.to(self.device),\n",
    "        decoder_input_ids=tgt_ids.to(self.device)\n",
    "    )['logits']\n",
    "    log_probs = torch.nn.functional.log_softmax(logits, dim=-1)\n",
    "    log_probs2 = log_probs.squeeze().cpu().detach().numpy()\n",
    "\n",
    "    # best for finetuned\n",
    "    if self.nllb_finetuned:\n",
    "        log_probs2 = log_probs2[0:-1, :]\n",
    "        # lose nothing\n",
    "        idxs = tgt_ids.flatten().detach().numpy()[1:]\n",
    "        scores = [log_probs2[ii, jj] for ii, jj in enumerate(idxs)][2:]\n",
    "    else:\n",
    "        # lose the language code prediction and the garbage prediction at the end\n",
    "        log_probs2 = log_probs2[1:-1, :]\n",
    "        # lose </s> and language code (keep eos)\n",
    "        idxs = tgt_ids.flatten().detach().numpy()[2:]\n",
    "        scores = [log_probs2[ii, jj] for ii, jj in enumerate(idxs)]\n",
    "        \n",
    "    return scores\n",
    "\n",
    "model_1._score_1way_nllb = partial(_score_1way_nllb, self=model_1)\n",
    "model_2._score_1way_nllb = partial(_score_1way_nllb, self=model_2)"
   ]
  },
  {
   "cell_type": "code",
   "execution_count": null,
   "metadata": {},
   "outputs": [],
   "source": [
    "# Ich mag essen Pizza. <EOS>\n",
    "# Ich esse gerne Pizza. <EOS>\n",
    "\n",
    "(\n",
    "    model_1.score_w_src(SENT_SRC, SENT_TGT_BAD),\n",
    "    model_1.score_w_src(SENT_SRC, SENT_TGT_GOOD)\n",
    ")"
   ]
  },
  {
   "cell_type": "code",
   "execution_count": null,
   "metadata": {},
   "outputs": [],
   "source": [
    "(\n",
    "    model_2.score_w_src(SENT_SRC, SENT_TGT_BAD),\n",
    "    model_2.score_w_src(SENT_SRC, SENT_TGT_GOOD)\n",
    ")"
   ]
  },
  {
   "cell_type": "code",
   "execution_count": null,
   "metadata": {},
   "outputs": [],
   "source": [
    "import numpy as np\n",
    "\n",
    "\n",
    "def format_sequence(sent_src, sent_tgt, model, min, max):\n",
    "    scores = model.score_w_src(sent_src, sent_tgt)\n",
    "    tokens_enc = model.tokenizer.encode(sent_tgt)\n",
    "    sent_tgt = sent_tgt.replace('.', ' .').split()+[\"</s>\"]\n",
    "    \n",
    "    for word, score in zip(sent_tgt, scores):\n",
    "        score_new = (score-min)/(max-min)\n",
    "        print(f\"   #color_cell({score_new:.2f}, {score:.3f})[{word}]\")\n",
    "    \n",
    "    score = np.average(scores)\n",
    "    score_new = (score-min)/(max-min)\n",
    "    print(f\"   #h(1fr)\")\n",
    "    print(f\"   #color_cell({score_new:.2f}, {score:.2f})[=avg]\")\n",
    "    print()\n",
    "\n",
    "format_sequence(SENT_SRC, SENT_TGT_BAD, model_1, min=-11, max=0)\n",
    "format_sequence(SENT_SRC, SENT_TGT_GOOD, model_1, min=-11, max=0)\n",
    "format_sequence(SENT_SRC, SENT_TGT_BAD, model_2, min=-11, max=0)\n",
    "format_sequence(SENT_SRC, SENT_TGT_GOOD, model_2, min=-11, max=0)"
   ]
  },
  {
   "cell_type": "code",
   "execution_count": null,
   "metadata": {},
   "outputs": [],
   "source": [
    "x = model_2.tokenizer.encode(SENT_TGT_BAD, add_special_tokens=False)\n",
    "x, model_2.tokenizer.decode(x)"
   ]
  },
  {
   "cell_type": "code",
   "execution_count": null,
   "metadata": {},
   "outputs": [],
   "source": [
    "# ./metrics_domain_adaptation/run_metric.py --metric prism2-src --model-name \"${ADAPTATION_ROOT}/models/trained/nllb/ende/600M_bio_lr1e-6_bs4/checkpoint-75000/\" --domain bio --count 100 --lang en-de 2>/dev/null | grep JSON;\\\n",
    "# ./metrics_domain_adaptation/run_metric.py --metric prism2-src --model-name \"facebook/nllb-200-distilled-600M\" --domain bio --count 100 --lang en-de 2>/dev/null | grep JSON\n",
    "\n",
    "\n",
    "# ./metrics_domain_adaptation/run_metric.py --metric prism2-src --model-name \"${ADAPTATION_ROOT}/models/trained/nllb/ende/600M_bio_lr1e-6_bs4/checkpoint-75000/\" --domain bio --lang en-de 2>/dev/null | grep JSON;\\\n",
    "# ./metrics_domain_adaptation/run_metric.py --metric prism2-src --model-name \"facebook/nllb-200-distilled-600M\" --domain bio --lang en-de 2>/dev/null | grep JSON\n",
    "\n",
    "\n",
    "# ./metrics_domain_adaptation/run_metric.py --metric prism2-ref --model-name \"${ADAPTATION_ROOT}/models/trained/nllb/ende/600M_bio_lr1e-6_bs4/checkpoint-75000/\" --domain bio --lang en-de 2>/dev/null | grep JSON;\\\n",
    "# ./metrics_domain_adaptation/run_metric.py --metric prism2-ref --model-name \"facebook/nllb-200-distilled-600M\" --domain bio --lang en-de 2>/dev/null | grep JSON\n",
    "\n",
    "\n",
    "# ./metrics_domain_adaptation/run_metric.py --metric prism2-src --model-name \"facebook/nllb-200-distilled-600M\" --domain bio --lang en-de 2>/dev/null | grep JSON "
   ]
  }
 ],
 "metadata": {
  "kernelspec": {
   "display_name": "base",
   "language": "python",
   "name": "python3"
  },
  "language_info": {
   "codemirror_mode": {
    "name": "ipython",
    "version": 3
   },
   "file_extension": ".py",
   "mimetype": "text/x-python",
   "name": "python",
   "nbconvert_exporter": "python",
   "pygments_lexer": "ipython3",
   "version": "3.10.9"
  },
  "orig_nbformat": 4
 },
 "nbformat": 4,
 "nbformat_minor": 2
}
